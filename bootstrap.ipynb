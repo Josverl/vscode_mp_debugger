{
 "cells": [
  {
   "cell_type": "code",
   "execution_count": 2,
   "id": "a9e05a3d",
   "metadata": {},
   "outputs": [
    {
     "name": "stdout",
     "output_type": "stream",
     "text": [
      "\u001b[2mAudited \u001b[1m8 packages\u001b[0m \u001b[2min 1ms\u001b[0m\u001b[0m\n",
      "\u001b[1m\u001b[31merror\u001b[39m\u001b[0m: File not found: `./requirements-dev.txt`\n",
      "\u001b[K\u001b[?25hm##################\u001b[0m⸩ ⠴ reify:typescript: \u001b[32;40mtiming\u001b[0m \u001b[35mreifyNode:node_modules/webpack\u001b[0m\u001b[0m\u001b[KKqu\u001b[0m\u001b[Km\u001b[K\n",
      "added 400 packages, and audited 401 packages in 4s\n",
      "\n",
      "84 packages are looking for funding\n",
      "  run `npm fund` for details\n",
      "\n",
      "\u001b[31m\u001b[1m7\u001b[22m\u001b[39m vulnerabilities (1 \u001b[1mlow\u001b[22m, 3 \u001b[33m\u001b[1mmoderate\u001b[22m\u001b[39m, 3 \u001b[31m\u001b[1mhigh\u001b[22m\u001b[39m)\n",
      "\n",
      "To address all issues, run:\n",
      "  npm audit fix\n",
      "\n",
      "Run `npm audit` for details.\n"
     ]
    }
   ],
   "source": [
    "# requirements in de bundled.libs folder \n",
    "\n",
    "# setup\n",
    "! uv pip install -r ./requirements.txt --target ./bundled/libs\n",
    "\n",
    "\n",
    "#install\n",
    "! uv pip sync --require-hashes ./requirements-dev.txt\n",
    "! npm ci\n"
   ]
  },
  {
   "cell_type": "code",
   "execution_count": 6,
   "id": "3d09c565",
   "metadata": {},
   "outputs": [
    {
     "name": "stdout",
     "output_type": "stream",
     "text": [
      "\n",
      "> micropython-debugger@2022.0.0-dev vsce-package\n",
      "> vsce package -o micropython_debugger.vsix\n",
      "\n",
      "Executing prepublish script 'npm run vscode:prepublish'...\n",
      "\n",
      "> micropython-debugger@2022.0.0-dev vscode:prepublish\n",
      "> npm run package\n",
      "\n",
      "\n",
      "> micropython-debugger@2022.0.0-dev package\n",
      "> webpack --mode production --devtool source-map --config ./webpack.config.js\n",
      "\n",
      "    \u001b[1m[webpack-cli] Compiler starting... \u001b[22m\n",
      "    \u001b[1m[webpack-cli] Compiler is using config: '/home/jos/vscode_mp_debugger/webpack.config.js'\u001b[22m\n",
      "asset \u001b[1m\u001b[32mextension.js\u001b[39m\u001b[22m 380 KiB \u001b[1m\u001b[33m[compared for emit]\u001b[39m\u001b[22m \u001b[1m\u001b[32m[minimized]\u001b[39m\u001b[22m (name: main) 1 related asset\n",
      "runtime modules 670 bytes 3 modules\n",
      "modules by path \u001b[1m./node_modules/\u001b[39m\u001b[22m 924 KiB 160 modules\n",
      "modules by path \u001b[1m./src/\u001b[39m\u001b[22m 21.9 KiB\n",
      "  modules by path \u001b[1m./src/common/*.ts\u001b[39m\u001b[22m 16.5 KiB\n",
      "    \u001b[1m./src/common/python.ts\u001b[39m\u001b[22m 3.07 KiB \u001b[1m\u001b[33m[built]\u001b[39m\u001b[22m \u001b[1m\u001b[33m[code generated]\u001b[39m\u001b[22m\n",
      "    \u001b[1m./src/common/server.ts\u001b[39m\u001b[22m 4.24 KiB \u001b[1m\u001b[33m[built]\u001b[39m\u001b[22m \u001b[1m\u001b[33m[code generated]\u001b[39m\u001b[22m\n",
      "    \u001b[1m./src/common/settings.ts\u001b[39m\u001b[22m 3.94 KiB \u001b[1m\u001b[33m[built]\u001b[39m\u001b[22m \u001b[1m\u001b[33m[code generated]\u001b[39m\u001b[22m\n",
      "    + 4 modules\n",
      "  \u001b[1m./src/extension.ts\u001b[39m\u001b[22m 3.89 KiB \u001b[1m\u001b[33m[built]\u001b[39m\u001b[22m \u001b[1m\u001b[33m[code generated]\u001b[39m\u001b[22m\n",
      "  \u001b[1m./src/common/log/logging.ts\u001b[39m\u001b[22m 1.53 KiB \u001b[1m\u001b[33m[built]\u001b[39m\u001b[22m \u001b[1m\u001b[33m[code generated]\u001b[39m\u001b[22m\n",
      "+ 11 modules\n",
      "webpack 5.89.0 compiled \u001b[1m\u001b[32msuccessfully\u001b[39m\u001b[22m in 5482 ms\n",
      "    \u001b[1m[webpack-cli] Compiler finished\u001b[22m\n",
      "\u001b[104m\u001b[30m INFO \u001b[39m\u001b[49m \u001b[1m\u001b[34mFiles included in the VSIX:\u001b[39m\u001b[22m\n",
      "\u001b[1m\u001b[34m\u001b[39m\u001b[22m\u001b[1mmicropython_debugger.vsix\u001b[22m\n",
      "├─ [Content_Types].xml \n",
      "├─ extension.vsixmanifest \n",
      "└─ \u001b[1mextension/\u001b[22m\n",
      "   ├─ LICENSE.txt \u001b[90m[1.17 KB]\u001b[39m\n",
      "   ├─ SECURITY.md \u001b[90m[3 KB]\u001b[39m\n",
      "   ├─ SUPPORT.md \u001b[90m[0.66 KB]\u001b[39m\n",
      "   ├─ bootstrap.ipynb \u001b[90m[2.52 KB]\u001b[39m\n",
      "   ├─ changelog.md \n",
      "   ├─ justfile \u001b[90m[1.28 KB]\u001b[39m\n",
      "   ├─ package.json \u001b[90m[5.86 KB]\u001b[39m\n",
      "   ├─ readme.md \n",
      "   ├─ requirements-dev.txt \u001b[90m[0 KB]\u001b[39m\n",
      "   ├─ runtime.txt \u001b[90m[0.01 KB]\u001b[39m\n",
      "   ├─ \u001b[1mbundled/\u001b[22m\n",
      "   │  ├─ \u001b[1mlibs/\u001b[22m \u001b[32m(167 files)\u001b[39m \u001b[33m[1.91 MB]\u001b[39m\n",
      "   │  └─ \u001b[1mtool/\u001b[22m \u001b[32m(5 files)\u001b[39m \u001b[90m[39.03 KB]\u001b[39m\n",
      "   └─ \u001b[1mdist/\u001b[22m\n",
      "      ├─ extension.js \u001b[90m[380.05 KB]\u001b[39m\n",
      "      └─ extension.js.map \u001b[33m[1.44 MB]\u001b[39m\n",
      "\n",
      "=> Run \u001b[1mvsce ls --tree\u001b[22m to see all included files.\n",
      "\n",
      "\u001b[42m\u001b[30m DONE \u001b[39m\u001b[49m Packaged: micropython_debugger.vsix \u001b[1m(186 files, 882.48 KB)\u001b[22m\n"
     ]
    }
   ],
   "source": [
    "# Package\n",
    "\n",
    "# ! npm ci\n",
    "! npm run vsce-package\n"
   ]
  }
 ],
 "metadata": {
  "kernelspec": {
   "display_name": ".venv",
   "language": "python",
   "name": "python3"
  },
  "language_info": {
   "codemirror_mode": {
    "name": "ipython",
    "version": 3
   },
   "file_extension": ".py",
   "mimetype": "text/x-python",
   "name": "python",
   "nbconvert_exporter": "python",
   "pygments_lexer": "ipython3",
   "version": "3.11.10"
  }
 },
 "nbformat": 4,
 "nbformat_minor": 5
}
